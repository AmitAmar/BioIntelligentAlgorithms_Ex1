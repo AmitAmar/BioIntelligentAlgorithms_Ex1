{
 "cells": [
  {
   "cell_type": "code",
   "execution_count": 1,
   "id": "7a4dd054",
   "metadata": {},
   "outputs": [],
   "source": [
    "import numpy as np\n",
    "import pandas as pd\n",
    "import keras"
   ]
  },
  {
   "cell_type": "code",
   "execution_count": 2,
   "id": "0c8403f8",
   "metadata": {},
   "outputs": [],
   "source": [
    "df_train = pd.read_csv(\"../data/train.csv\", header=None)\n",
    "df_validate = pd.read_csv(\"../data/validate.csv\", header=None)"
   ]
  },
  {
   "cell_type": "code",
   "execution_count": 3,
   "id": "bae8f982",
   "metadata": {},
   "outputs": [],
   "source": [
    "train_data = df_train.drop(0, axis=1).to_numpy()\n",
    "train_tags = keras.utils.to_categorical(df_train[0].to_numpy() - 1)\n",
    "\n",
    "validate_data = df_validate.drop(0, axis=1).to_numpy()\n",
    "validate_tags = keras.utils.to_categorical(df_validate[0].to_numpy() - 1)"
   ]
  },
  {
   "cell_type": "code",
   "execution_count": 4,
   "id": "bc4f282c",
   "metadata": {},
   "outputs": [
    {
     "data": {
      "text/plain": [
       "(1000, 3072)"
      ]
     },
     "execution_count": 4,
     "metadata": {},
     "output_type": "execute_result"
    }
   ],
   "source": [
    "validate_data.shape"
   ]
  },
  {
   "cell_type": "code",
   "execution_count": 40,
   "id": "b5174c71",
   "metadata": {},
   "outputs": [],
   "source": [
    "model = keras.Sequential()\n",
    "model.add(keras.layers.Dense(650, input_dim=3072, activation=\"sigmoid\"))\n",
    "model.add(keras.layers.Dense(400, activation=\"sigmoid\"))\n",
    "model.add(keras.layers.Dense(250, activation=\"sigmoid\"))\n",
    "model.add(keras.layers.Dense(10, activation=\"softmax\"))\n",
    "model.compile(loss='binary_crossentropy', optimizer='adam', metrics=['accuracy'])"
   ]
  },
  {
   "cell_type": "code",
   "execution_count": 41,
   "id": "1e780b79",
   "metadata": {},
   "outputs": [
    {
     "name": "stdout",
     "output_type": "stream",
     "text": [
      "Epoch 1/50\n",
      "8/8 [==============================] - 1s 32ms/step - loss: 0.4512 - accuracy: 0.0995\n",
      "Epoch 2/50\n",
      "8/8 [==============================] - 0s 34ms/step - loss: 0.3412 - accuracy: 0.0977\n",
      "Epoch 3/50\n",
      "8/8 [==============================] - 0s 33ms/step - loss: 0.3327 - accuracy: 0.1009\n",
      "Epoch 4/50\n",
      "8/8 [==============================] - 0s 33ms/step - loss: 0.3256 - accuracy: 0.1038\n",
      "Epoch 5/50\n",
      "8/8 [==============================] - 0s 32ms/step - loss: 0.3266 - accuracy: 0.1029\n",
      "Epoch 6/50\n",
      "8/8 [==============================] - 0s 33ms/step - loss: 0.3249 - accuracy: 0.1116\n",
      "Epoch 7/50\n",
      "8/8 [==============================] - 0s 32ms/step - loss: 0.3248 - accuracy: 0.1069\n",
      "Epoch 8/50\n",
      "8/8 [==============================] - 0s 34ms/step - loss: 0.3242 - accuracy: 0.1474\n",
      "Epoch 9/50\n",
      "8/8 [==============================] - 0s 31ms/step - loss: 0.3235 - accuracy: 0.1320\n",
      "Epoch 10/50\n",
      "8/8 [==============================] - 0s 35ms/step - loss: 0.3222 - accuracy: 0.1630\n",
      "Epoch 11/50\n",
      "8/8 [==============================] - 0s 34ms/step - loss: 0.3201 - accuracy: 0.1762\n",
      "Epoch 12/50\n",
      "8/8 [==============================] - 0s 31ms/step - loss: 0.3167 - accuracy: 0.1797\n",
      "Epoch 13/50\n",
      "8/8 [==============================] - 0s 34ms/step - loss: 0.3124 - accuracy: 0.1771\n",
      "Epoch 14/50\n",
      "8/8 [==============================] - 0s 33ms/step - loss: 0.3076 - accuracy: 0.1764\n",
      "Epoch 15/50\n",
      "8/8 [==============================] - 0s 32ms/step - loss: 0.3034 - accuracy: 0.1945\n",
      "Epoch 16/50\n",
      "8/8 [==============================] - 0s 34ms/step - loss: 0.3030 - accuracy: 0.1780\n",
      "Epoch 17/50\n",
      "8/8 [==============================] - 0s 35ms/step - loss: 0.3019 - accuracy: 0.1869\n",
      "Epoch 18/50\n",
      "8/8 [==============================] - 0s 31ms/step - loss: 0.3006 - accuracy: 0.1881\n",
      "Epoch 19/50\n",
      "8/8 [==============================] - 0s 34ms/step - loss: 0.3007 - accuracy: 0.1972\n",
      "Epoch 20/50\n",
      "8/8 [==============================] - 0s 33ms/step - loss: 0.2990 - accuracy: 0.1961\n",
      "Epoch 21/50\n",
      "8/8 [==============================] - 0s 33ms/step - loss: 0.2990 - accuracy: 0.2010\n",
      "Epoch 22/50\n",
      "8/8 [==============================] - 0s 33ms/step - loss: 0.2979 - accuracy: 0.2101\n",
      "Epoch 23/50\n",
      "8/8 [==============================] - 0s 36ms/step - loss: 0.2976 - accuracy: 0.2175\n",
      "Epoch 24/50\n",
      "8/8 [==============================] - 0s 36ms/step - loss: 0.2952 - accuracy: 0.2280\n",
      "Epoch 25/50\n",
      "8/8 [==============================] - 0s 35ms/step - loss: 0.2947 - accuracy: 0.2423\n",
      "Epoch 26/50\n",
      "8/8 [==============================] - 0s 35ms/step - loss: 0.2930 - accuracy: 0.2541\n",
      "Epoch 27/50\n",
      "8/8 [==============================] - 0s 34ms/step - loss: 0.2914 - accuracy: 0.2535\n",
      "Epoch 28/50\n",
      "8/8 [==============================] - 0s 32ms/step - loss: 0.2900 - accuracy: 0.2582\n",
      "Epoch 29/50\n",
      "8/8 [==============================] - 0s 33ms/step - loss: 0.2881 - accuracy: 0.2746\n",
      "Epoch 30/50\n",
      "8/8 [==============================] - 0s 35ms/step - loss: 0.2855 - accuracy: 0.2924\n",
      "Epoch 31/50\n",
      "8/8 [==============================] - 0s 33ms/step - loss: 0.2836 - accuracy: 0.3072\n",
      "Epoch 32/50\n",
      "8/8 [==============================] - 0s 34ms/step - loss: 0.2815 - accuracy: 0.3118\n",
      "Epoch 33/50\n",
      "8/8 [==============================] - 0s 34ms/step - loss: 0.2801 - accuracy: 0.3135\n",
      "Epoch 34/50\n",
      "8/8 [==============================] - 0s 33ms/step - loss: 0.2782 - accuracy: 0.3229\n",
      "Epoch 35/50\n",
      "8/8 [==============================] - 0s 34ms/step - loss: 0.2783 - accuracy: 0.3192\n",
      "Epoch 36/50\n",
      "8/8 [==============================] - 0s 33ms/step - loss: 0.2768 - accuracy: 0.3255\n",
      "Epoch 37/50\n",
      "8/8 [==============================] - 0s 34ms/step - loss: 0.2772 - accuracy: 0.3284\n",
      "Epoch 38/50\n",
      "8/8 [==============================] - 0s 36ms/step - loss: 0.2749 - accuracy: 0.3341\n",
      "Epoch 39/50\n",
      "8/8 [==============================] - 0s 34ms/step - loss: 0.2742 - accuracy: 0.3371\n",
      "Epoch 40/50\n",
      "8/8 [==============================] - 0s 36ms/step - loss: 0.2715 - accuracy: 0.3411\n",
      "Epoch 41/50\n",
      "8/8 [==============================] - 0s 33ms/step - loss: 0.2716 - accuracy: 0.3369\n",
      "Epoch 42/50\n",
      "8/8 [==============================] - 0s 35ms/step - loss: 0.2692 - accuracy: 0.3507\n",
      "Epoch 43/50\n",
      "8/8 [==============================] - 0s 33ms/step - loss: 0.2669 - accuracy: 0.3579\n",
      "Epoch 44/50\n",
      "8/8 [==============================] - 0s 34ms/step - loss: 0.2682 - accuracy: 0.3614\n",
      "Epoch 45/50\n",
      "8/8 [==============================] - 0s 35ms/step - loss: 0.2668 - accuracy: 0.3588\n",
      "Epoch 46/50\n",
      "8/8 [==============================] - 0s 36ms/step - loss: 0.2635 - accuracy: 0.3706\n",
      "Epoch 47/50\n",
      "8/8 [==============================] - 0s 34ms/step - loss: 0.2622 - accuracy: 0.3801\n",
      "Epoch 48/50\n",
      "8/8 [==============================] - 0s 32ms/step - loss: 0.2609 - accuracy: 0.3771\n",
      "Epoch 49/50\n",
      "8/8 [==============================] - 0s 32ms/step - loss: 0.2609 - accuracy: 0.3811\n",
      "Epoch 50/50\n",
      "8/8 [==============================] - 0s 33ms/step - loss: 0.2621 - accuracy: 0.3801\n"
     ]
    },
    {
     "data": {
      "text/plain": [
       "<tensorflow.python.keras.callbacks.History at 0x18bff4430>"
      ]
     },
     "execution_count": 41,
     "metadata": {},
     "output_type": "execute_result"
    }
   ],
   "source": [
    "model.fit(train_data, train_tags, epochs=50, batch_size=1024)"
   ]
  },
  {
   "cell_type": "code",
   "execution_count": 42,
   "id": "662df8bf",
   "metadata": {},
   "outputs": [
    {
     "name": "stdout",
     "output_type": "stream",
     "text": [
      "32/32 [==============================] - 0s 2ms/step - loss: 0.2643 - accuracy: 0.3760\n"
     ]
    },
    {
     "data": {
      "text/plain": [
       "[0.2643435001373291, 0.37599998712539673]"
      ]
     },
     "execution_count": 42,
     "metadata": {},
     "output_type": "execute_result"
    }
   ],
   "source": [
    "model.evaluate(validate_data, validate_tags)"
   ]
  },
  {
   "cell_type": "code",
   "execution_count": null,
   "id": "954f6416",
   "metadata": {},
   "outputs": [],
   "source": [
    "pred = validate_tags"
   ]
  },
  {
   "cell_type": "code",
   "execution_count": null,
   "id": "30147e07",
   "metadata": {},
   "outputs": [],
   "source": [
    "len([x for x,y in zip(pred, validate_tags) if (x==y).all()])"
   ]
  },
  {
   "cell_type": "code",
   "execution_count": null,
   "id": "4dcea37b",
   "metadata": {},
   "outputs": [],
   "source": []
  }
 ],
 "metadata": {
  "kernelspec": {
   "display_name": "Python 3",
   "language": "python",
   "name": "python3"
  },
  "language_info": {
   "codemirror_mode": {
    "name": "ipython",
    "version": 3
   },
   "file_extension": ".py",
   "mimetype": "text/x-python",
   "name": "python",
   "nbconvert_exporter": "python",
   "pygments_lexer": "ipython3",
   "version": "3.8.2"
  }
 },
 "nbformat": 4,
 "nbformat_minor": 5
}
