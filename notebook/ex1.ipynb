{
 "cells": [
  {
   "cell_type": "code",
   "execution_count": 41,
   "id": "f3330450",
   "metadata": {},
   "outputs": [],
   "source": [
    "import numpy as np\n",
    "import pandas as pd\n",
    "import keras"
   ]
  },
  {
   "cell_type": "code",
   "execution_count": 42,
   "id": "a0dd1ada",
   "metadata": {},
   "outputs": [],
   "source": [
    "df_train = pd.read_csv(\"../data/train.csv\", header=None)\n",
    "df_validate = pd.read_csv(\"../data/validate.csv\", header=None)"
   ]
  },
  {
   "cell_type": "code",
   "execution_count": 43,
   "id": "17d1774c",
   "metadata": {},
   "outputs": [],
   "source": [
    "train_data = df_train.drop(0, axis=1).to_numpy()\n",
    "train_tags = keras.utils.to_categorical(df_train[0].to_numpy() - 1)\n",
    "\n",
    "validate_data = df_validate.drop(0, axis=1).to_numpy()\n",
    "validate_tags = keras.utils.to_categorical(df_validate[0].to_numpy() - 1)"
   ]
  },
  {
   "cell_type": "code",
   "execution_count": 44,
   "id": "cd8c78a9",
   "metadata": {},
   "outputs": [
    {
     "data": {
      "text/plain": [
       "(1000, 3072)"
      ]
     },
     "execution_count": 44,
     "metadata": {},
     "output_type": "execute_result"
    }
   ],
   "source": [
    "validate_data.shape"
   ]
  },
  {
   "cell_type": "code",
   "execution_count": 45,
   "id": "bf78258b",
   "metadata": {},
   "outputs": [],
   "source": [
    "model = keras.Sequential()\n",
    "model.add(keras.layers.Dense(400, input_dim=3072, activation=\"sigmoid\"))\n",
    "model.add(keras.layers.Dense(400, activation=\"sigmoid\"))\n",
    "model.add(keras.layers.Dense(10, activation=\"softmax\"))\n",
    "model.compile(loss='binary_crossentropy', optimizer='adam', metrics=['accuracy'])"
   ]
  },
  {
   "cell_type": "code",
   "execution_count": 75,
   "id": "dbd789b6",
   "metadata": {},
   "outputs": [
    {
     "name": "stdout",
     "output_type": "stream",
     "text": [
      "Epoch 1/10\n",
      "8/8 [==============================] - 0s 24ms/step - loss: 0.1581 - accuracy: 0.7051\n",
      "Epoch 2/10\n",
      "8/8 [==============================] - 0s 22ms/step - loss: 0.1551 - accuracy: 0.7155\n",
      "Epoch 3/10\n",
      "8/8 [==============================] - 0s 26ms/step - loss: 0.1545 - accuracy: 0.7146\n",
      "Epoch 4/10\n",
      "8/8 [==============================] - 0s 24ms/step - loss: 0.1547 - accuracy: 0.7185\n",
      "Epoch 5/10\n",
      "8/8 [==============================] - 0s 25ms/step - loss: 0.1523 - accuracy: 0.7219\n",
      "Epoch 6/10\n",
      "8/8 [==============================] - 0s 24ms/step - loss: 0.1529 - accuracy: 0.7207\n",
      "Epoch 7/10\n",
      "8/8 [==============================] - 0s 25ms/step - loss: 0.1532 - accuracy: 0.7188\n",
      "Epoch 8/10\n",
      "8/8 [==============================] - 0s 24ms/step - loss: 0.1502 - accuracy: 0.7297\n",
      "Epoch 9/10\n",
      "8/8 [==============================] - 0s 23ms/step - loss: 0.1491 - accuracy: 0.7311\n",
      "Epoch 10/10\n",
      "8/8 [==============================] - 0s 21ms/step - loss: 0.1508 - accuracy: 0.7249\n"
     ]
    },
    {
     "data": {
      "text/plain": [
       "<tensorflow.python.keras.callbacks.History at 0x18e417d00>"
      ]
     },
     "execution_count": 75,
     "metadata": {},
     "output_type": "execute_result"
    }
   ],
   "source": [
    "model.fit(train_data, train_tags, epochs=10, batch_size=1024)"
   ]
  },
  {
   "cell_type": "code",
   "execution_count": 76,
   "id": "d569edb3",
   "metadata": {},
   "outputs": [
    {
     "name": "stdout",
     "output_type": "stream",
     "text": [
      "32/32 [==============================] - 0s 1ms/step - loss: 0.2650 - accuracy: 0.4340\n"
     ]
    },
    {
     "data": {
      "text/plain": [
       "[0.2649565041065216, 0.4339999854564667]"
      ]
     },
     "execution_count": 76,
     "metadata": {},
     "output_type": "execute_result"
    }
   ],
   "source": [
    "model.evaluate(validate_data, validate_tags)"
   ]
  },
  {
   "cell_type": "code",
   "execution_count": null,
   "id": "a21de7fa",
   "metadata": {},
   "outputs": [],
   "source": []
  }
 ],
 "metadata": {
  "kernelspec": {
   "display_name": "Python 3",
   "language": "python",
   "name": "python3"
  },
  "language_info": {
   "codemirror_mode": {
    "name": "ipython",
    "version": 3
   },
   "file_extension": ".py",
   "mimetype": "text/x-python",
   "name": "python",
   "nbconvert_exporter": "python",
   "pygments_lexer": "ipython3",
   "version": "3.8.2"
  }
 },
 "nbformat": 4,
 "nbformat_minor": 5
}
