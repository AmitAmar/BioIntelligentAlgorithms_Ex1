{
 "cells": [
  {
   "cell_type": "code",
   "execution_count": 41,
   "id": "7a4dd054",
   "metadata": {},
   "outputs": [],
   "source": [
    "import numpy as np\n",
    "import pandas as pd\n",
    "import keras"
   ]
  },
  {
   "cell_type": "code",
   "execution_count": 42,
   "id": "0c8403f8",
   "metadata": {},
   "outputs": [],
   "source": [
    "df_train = pd.read_csv(\"../data/train.csv\", header=None)\n",
    "df_validate = pd.read_csv(\"../data/validate.csv\", header=None)"
   ]
  },
  {
   "cell_type": "code",
   "execution_count": 43,
   "id": "bae8f982",
   "metadata": {},
   "outputs": [],
   "source": [
    "train_data = df_train.drop(0, axis=1).to_numpy()\n",
    "train_tags = keras.utils.to_categorical(df_train[0].to_numpy() - 1)\n",
    "\n",
    "validate_data = df_validate.drop(0, axis=1).to_numpy()\n",
    "validate_tags = keras.utils.to_categorical(df_validate[0].to_numpy() - 1)"
   ]
  },
  {
   "cell_type": "code",
   "execution_count": 44,
   "id": "bc4f282c",
   "metadata": {},
   "outputs": [
    {
     "data": {
      "text/plain": [
       "(1000, 3072)"
      ]
     },
     "execution_count": 44,
     "metadata": {},
     "output_type": "execute_result"
    }
   ],
   "source": [
    "validate_data.shape"
   ]
  },
  {
   "cell_type": "code",
   "execution_count": 122,
   "id": "b5174c71",
   "metadata": {},
   "outputs": [],
   "source": [
    "model = keras.Sequential()\n",
    "model.add(keras.layers.Dense(400, input_dim=3072, activation=\"sigmoid\"))\n",
    "model.add(keras.layers.Dense(400, activation=\"sigmoid\"))\n",
    "model.add(keras.layers.Dense(10, activation=\"softmax\"))\n",
    "model.compile(loss='binary_crossentropy', optimizer='adam', metrics=['accuracy'])"
   ]
  },
  {
   "cell_type": "code",
   "execution_count": 125,
   "id": "1e780b79",
   "metadata": {},
   "outputs": [
    {
     "name": "stdout",
     "output_type": "stream",
     "text": [
      "Epoch 1/10\n",
      "8/8 [==============================] - 0s 32ms/step - loss: 0.2883 - accuracy: 0.3031\n",
      "Epoch 2/10\n",
      "8/8 [==============================] - 0s 33ms/step - loss: 0.2867 - accuracy: 0.3051\n",
      "Epoch 3/10\n",
      "8/8 [==============================] - 0s 32ms/step - loss: 0.2852 - accuracy: 0.3165\n",
      "Epoch 4/10\n",
      "8/8 [==============================] - 0s 32ms/step - loss: 0.2837 - accuracy: 0.3139\n",
      "Epoch 5/10\n",
      "8/8 [==============================] - 0s 33ms/step - loss: 0.2821 - accuracy: 0.3251\n",
      "Epoch 6/10\n",
      "8/8 [==============================] - 0s 35ms/step - loss: 0.2807 - accuracy: 0.3311\n",
      "Epoch 7/10\n",
      "8/8 [==============================] - 0s 33ms/step - loss: 0.2794 - accuracy: 0.3360\n",
      "Epoch 8/10\n",
      "8/8 [==============================] - 0s 33ms/step - loss: 0.2784 - accuracy: 0.3372\n",
      "Epoch 9/10\n",
      "8/8 [==============================] - 0s 30ms/step - loss: 0.2771 - accuracy: 0.3405\n",
      "Epoch 10/10\n",
      "8/8 [==============================] - 0s 33ms/step - loss: 0.2757 - accuracy: 0.3454\n"
     ]
    },
    {
     "data": {
      "text/plain": [
       "<tensorflow.python.keras.callbacks.History at 0x18e98c490>"
      ]
     },
     "execution_count": 125,
     "metadata": {},
     "output_type": "execute_result"
    }
   ],
   "source": [
    "model.fit(train_data, train_tags, epochs=10, batch_size=1024)"
   ]
  },
  {
   "cell_type": "code",
   "execution_count": 121,
   "id": "662df8bf",
   "metadata": {},
   "outputs": [
    {
     "name": "stdout",
     "output_type": "stream",
     "text": [
      "32/32 [==============================] - 0s 3ms/step - loss: 0.2486 - accuracy: 0.4430\n"
     ]
    },
    {
     "data": {
      "text/plain": [
       "[0.24857287108898163, 0.4429999887943268]"
      ]
     },
     "execution_count": 121,
     "metadata": {},
     "output_type": "execute_result"
    }
   ],
   "source": [
    "model.evaluate(validate_data, validate_tags)"
   ]
  },
  {
   "cell_type": "code",
   "execution_count": 78,
   "id": "954f6416",
   "metadata": {},
   "outputs": [],
   "source": [
    "pred = validate_tags"
   ]
  },
  {
   "cell_type": "code",
   "execution_count": 85,
   "id": "30147e07",
   "metadata": {},
   "outputs": [
    {
     "data": {
      "text/plain": [
       "1000"
      ]
     },
     "execution_count": 85,
     "metadata": {},
     "output_type": "execute_result"
    }
   ],
   "source": [
    "len([x for x,y in zip(pred, validate_tags) if (x==y).all()])"
   ]
  },
  {
   "cell_type": "code",
   "execution_count": null,
   "id": "4dcea37b",
   "metadata": {},
   "outputs": [],
   "source": []
  }
 ],
 "metadata": {
  "kernelspec": {
   "display_name": "Python 3",
   "language": "python",
   "name": "python3"
  },
  "language_info": {
   "codemirror_mode": {
    "name": "ipython",
    "version": 3
   },
   "file_extension": ".py",
   "mimetype": "text/x-python",
   "name": "python",
   "nbconvert_exporter": "python",
   "pygments_lexer": "ipython3",
   "version": "3.8.2"
  }
 },
 "nbformat": 4,
 "nbformat_minor": 5
}
